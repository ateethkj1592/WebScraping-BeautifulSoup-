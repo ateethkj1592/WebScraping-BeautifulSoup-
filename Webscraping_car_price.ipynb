{
 "cells": [
  {
   "cell_type": "markdown",
   "id": "053abcf0",
   "metadata": {},
   "source": [
    "## Importing required modules"
   ]
  },
  {
   "cell_type": "code",
   "execution_count": 93,
   "id": "88b6e976",
   "metadata": {},
   "outputs": [],
   "source": [
    "from bs4 import BeautifulSoup\n",
    "import pandas as pd\n",
    "import requests\n",
    "import re"
   ]
  },
  {
   "cell_type": "markdown",
   "id": "b353bd34",
   "metadata": {},
   "source": [
    "### Selecting a required webpage and initialising html parser"
   ]
  },
  {
   "cell_type": "code",
   "execution_count": 106,
   "id": "b3670806",
   "metadata": {},
   "outputs": [],
   "source": [
    "url  = 'https://www.cars24.com/buy-used-cars-hyderabad/'\n",
    "page = requests.get(url)\n",
    "soup = BeautifulSoup(page.text,'html.parser')"
   ]
  },
  {
   "cell_type": "code",
   "execution_count": 107,
   "id": "c99ba731",
   "metadata": {},
   "outputs": [],
   "source": [
    "Cars_dict = {}\n",
    "cars_no = 0\n",
    "no_page = 7"
   ]
  },
  {
   "cell_type": "markdown",
   "id": "1b06e044",
   "metadata": {},
   "source": [
    "### Creating a dataframe to store scrped content"
   ]
  },
  {
   "cell_type": "code",
   "execution_count": 108,
   "id": "288e02cc",
   "metadata": {},
   "outputs": [],
   "source": [
    "tables = soup.find_all(\"div\", {\"class\": \"_2z-Yu\"})"
   ]
  },
  {
   "cell_type": "code",
   "execution_count": 109,
   "id": "44e7f495",
   "metadata": {},
   "outputs": [
    {
     "data": {
      "text/plain": [
       "[<div class=\"_2z-Yu\"><div class=\"_1mlAq\"><h2 class=\"_2lmIw\">2018 Renault Kwid</h2><div class=\"_1LNXN\"><button><img alt=\"Add to wishlist\" height=\"24\" src=\"https://www.cars24.com/js/a7b5a250e71331e76e52ae4c1ac245d4.svg\" width=\"24\"/></button></div></div><ul class=\"_1hOnS\"><li>CLIMBER 1.0 AMT</li><li class=\"_1aIyR\"></li><li>Automatic</li></ul><ul class=\"_13yb6\"><li>87,110 km</li><li>1st Owner</li><li>Petrol</li><li>TS-07</li></ul><div><div class=\"WNwWR\"><div class=\"_1Em-A\"><strong>₹8,426/month</strong><span class=\"_2JX5N\">Zero Down Payment</span></div><div class=\"_18ToE\"><span>₹4,31,000</span><p class=\"eRtfP\">₹4,41,000</p></div></div><div class=\"_351jJ\"><span class=\"_3DYbK\"><img alt=\"Address\" height=\"14\" src=\"https://www.cars24.com/js/cee9f2419a2f766f8fff2e7a1a5ad9ff.svg\" width=\"14\"/>Kompally, Hyderabad</span></div></div></div>,\n",
       " <div class=\"_2z-Yu\"><div class=\"_1mlAq\"><h2 class=\"_2lmIw\">2019 Maruti Celerio</h2><div class=\"_1LNXN\"><button><img alt=\"Add to wishlist\" height=\"24\" src=\"https://www.cars24.com/js/a7b5a250e71331e76e52ae4c1ac245d4.svg\" width=\"24\"/></button></div></div><ul class=\"_1hOnS\"><li>ZXI AMT</li><li class=\"_1aIyR\"></li><li>Automatic</li></ul><ul class=\"_13yb6\"><li>46,642 km</li><li>1st Owner</li><li>Petrol</li><li>TS-08</li></ul><div><div class=\"WNwWR\"><div class=\"_1Em-A\"><strong>₹10,225/month</strong><span class=\"_2JX5N\">Zero Down Payment</span></div><div class=\"_18ToE\"><span>₹5,23,000</span></div></div><div class=\"_351jJ\"><span class=\"_3DYbK\"><img alt=\"Address\" height=\"14\" src=\"https://www.cars24.com/js/cee9f2419a2f766f8fff2e7a1a5ad9ff.svg\" width=\"14\"/>Kompally, Hyderabad</span></div></div></div>,\n",
       " <div class=\"_2z-Yu\"><div class=\"_1mlAq\"><h2 class=\"_2lmIw\">2018 Maruti SWIFT</h2><div class=\"_1LNXN\"><button><img alt=\"Add to wishlist\" height=\"24\" src=\"https://www.cars24.com/js/a7b5a250e71331e76e52ae4c1ac245d4.svg\" width=\"24\"/></button></div></div><ul class=\"_1hOnS\"><li>VXI</li><li class=\"_1aIyR\"></li><li>Manual</li></ul><ul class=\"_13yb6\"><li>58,680 km</li><li>1st Owner</li><li>Petrol</li><li>TS-09</li></ul><div><div class=\"WNwWR\"><div class=\"_1Em-A\"><strong>₹12,480/month</strong><span class=\"_2JX5N\">Zero Down Payment</span></div><div class=\"_18ToE\"><span>₹6,38,350</span></div></div><div class=\"_351jJ\"><span class=\"_3DYbK\"><img alt=\"Address\" height=\"14\" src=\"https://www.cars24.com/js/cee9f2419a2f766f8fff2e7a1a5ad9ff.svg\" width=\"14\"/>Kompally, Hyderabad</span></div></div></div>,\n",
       " <div class=\"_2z-Yu\"><div class=\"_1mlAq\"><h2 class=\"_2lmIw\">2018 TATA TIAGO</h2><div class=\"_1LNXN\"><button><img alt=\"Add to wishlist\" height=\"24\" src=\"https://www.cars24.com/js/a7b5a250e71331e76e52ae4c1ac245d4.svg\" width=\"24\"/></button></div></div><ul class=\"_1hOnS\"><li>XZA PETROL</li><li class=\"_1aIyR\"></li><li>Automatic</li></ul><ul class=\"_13yb6\"><li>97,982 km</li><li>1st Owner</li><li>Petrol</li><li>TS-08</li></ul><div><div class=\"WNwWR\"><div class=\"_1Em-A\"><strong>₹11,535/month</strong><span class=\"_2JX5N\">Zero Down Payment</span></div><div class=\"_18ToE\"><span>₹5,90,000</span><p class=\"eRtfP\">₹6,02,000</p></div></div><div class=\"_351jJ\"><span class=\"_3DYbK\"><img alt=\"Address\" height=\"14\" src=\"https://www.cars24.com/js/cee9f2419a2f766f8fff2e7a1a5ad9ff.svg\" width=\"14\"/>Attapur, Hyderabad</span></div></div></div>,\n",
       " <div class=\"_2z-Yu\"><div class=\"_1mlAq\"><h2 class=\"_2lmIw\">2020 Hyundai Verna</h2><div class=\"_1LNXN\"><button><img alt=\"Add to wishlist\" height=\"24\" src=\"https://www.cars24.com/js/a7b5a250e71331e76e52ae4c1ac245d4.svg\" width=\"24\"/></button></div></div><ul class=\"_1hOnS\"><li>S PLUS 1.5 VTVT</li><li class=\"_1aIyR\"></li><li>Manual</li></ul><ul class=\"_13yb6\"><li>31,552 km</li><li>2nd Owner</li><li>Petrol</li><li>TS-08</li></ul><div><div class=\"WNwWR\"><div class=\"_1Em-A\"><strong>₹19,510/month</strong><span class=\"_2JX5N\">Zero Down Payment</span></div><div class=\"_18ToE\"><span>₹10,25,000</span><p class=\"eRtfP\">₹10,54,000</p></div></div><div class=\"_351jJ\"><span class=\"_3DYbK\"><img alt=\"Address\" height=\"14\" src=\"https://www.cars24.com/js/cee9f2419a2f766f8fff2e7a1a5ad9ff.svg\" width=\"14\"/>Bachupally, Hyderabad</span></div></div></div>,\n",
       " <div class=\"_2z-Yu\"><div class=\"_1mlAq\"><h2 class=\"_2lmIw\">2017 Hyundai Eon</h2><div class=\"_1LNXN\"><button><img alt=\"Add to wishlist\" height=\"24\" src=\"https://www.cars24.com/js/a7b5a250e71331e76e52ae4c1ac245d4.svg\" width=\"24\"/></button></div></div><ul class=\"_1hOnS\"><li>SPORTZ</li><li class=\"_1aIyR\"></li><li>Manual</li></ul><ul class=\"_13yb6\"><li>48,844 km</li><li>2nd Owner</li><li>Petrol</li><li>TS-10</li></ul><div><div class=\"WNwWR\"><div class=\"_1Em-A\"><strong>₹6,237/month</strong><span class=\"_2JX5N\">Zero Down Payment</span></div><div class=\"_18ToE\"><span>₹3,19,000</span></div></div><div class=\"_351jJ\"><span class=\"_3DYbK\"><img alt=\"Address\" height=\"14\" src=\"https://www.cars24.com/js/cee9f2419a2f766f8fff2e7a1a5ad9ff.svg\" width=\"14\"/>Bachupally, Hyderabad</span></div></div></div>,\n",
       " <div class=\"_2z-Yu\"><div class=\"_1mlAq\"><h2 class=\"_2lmIw\">2017 Hyundai Elite i20</h2><div class=\"_1LNXN\"><button><img alt=\"Add to wishlist\" height=\"24\" src=\"https://www.cars24.com/js/a7b5a250e71331e76e52ae4c1ac245d4.svg\" width=\"24\"/></button></div></div><ul class=\"_1hOnS\"><li>ASTA 1.2</li><li class=\"_1aIyR\"></li><li>Manual</li></ul><ul class=\"_13yb6\"><li>94,531 km</li><li>2nd Owner</li><li>Petrol</li><li>TS-08</li></ul><div><div class=\"WNwWR\"><div class=\"_1Em-A\"><strong>₹11,867/month</strong><span class=\"_2JX5N\">Zero Down Payment</span></div><div class=\"_18ToE\"><span>₹6,07,000</span></div></div><div class=\"_351jJ\"><span class=\"_3DYbK\"><img alt=\"Address\" height=\"14\" src=\"https://www.cars24.com/js/cee9f2419a2f766f8fff2e7a1a5ad9ff.svg\" width=\"14\"/>Attapur, Hyderabad</span></div></div></div>,\n",
       " <div class=\"_2z-Yu\"><div class=\"_1mlAq\"><h2 class=\"_2lmIw\">2017 Maruti Alto K10</h2><div class=\"_1LNXN\"><button><img alt=\"Add to wishlist\" height=\"24\" src=\"https://www.cars24.com/js/a7b5a250e71331e76e52ae4c1ac245d4.svg\" width=\"24\"/></button></div></div><ul class=\"_1hOnS\"><li>VXI</li><li class=\"_1aIyR\"></li><li>Manual</li></ul><ul class=\"_13yb6\"><li>86,555 km</li><li>1st Owner</li><li>Petrol</li><li>TS-15</li></ul><div><div class=\"WNwWR\"><div class=\"_1Em-A\"><strong>₹6,882/month</strong><span class=\"_2JX5N\">Zero Down Payment</span></div><div class=\"_18ToE\"><span>₹3,52,000</span><p class=\"eRtfP\">₹3,67,000</p></div></div><div class=\"_351jJ\"><span class=\"_3DYbK\"><img alt=\"Address\" height=\"14\" src=\"https://www.cars24.com/js/cee9f2419a2f766f8fff2e7a1a5ad9ff.svg\" width=\"14\"/>Kompally, Hyderabad</span></div></div></div>,\n",
       " <div class=\"_2z-Yu\"><div class=\"_1mlAq\"><h2 class=\"_2lmIw\">2018 Maruti Ertiga</h2><div class=\"_1LNXN\"><button><img alt=\"Add to wishlist\" height=\"24\" src=\"https://www.cars24.com/js/a7b5a250e71331e76e52ae4c1ac245d4.svg\" width=\"24\"/></button></div></div><ul class=\"_1hOnS\"><li>ZDI + SHVS</li><li class=\"_1aIyR\"></li><li>Manual</li></ul><ul class=\"_13yb6\"><li>74,400 km</li><li>2nd Owner</li><li>Diesel</li><li>TS-11</li></ul><div><div class=\"WNwWR\"><div class=\"_1Em-A\"><strong>₹19,053/month</strong><span class=\"_2JX5N\">Zero Down Payment</span></div><div class=\"_18ToE\"><span>₹10,01,000</span></div></div><div class=\"_351jJ\"><span class=\"_3DYbK\"><img alt=\"Address\" height=\"14\" src=\"https://www.cars24.com/js/cee9f2419a2f766f8fff2e7a1a5ad9ff.svg\" width=\"14\"/>Kompally, Hyderabad</span></div></div></div>,\n",
       " <div class=\"_2z-Yu\"><div class=\"_1mlAq\"><h2 class=\"_2lmIw\">2010 Maruti Alto</h2><div class=\"_1LNXN\"><button><img alt=\"Add to wishlist\" height=\"24\" src=\"https://www.cars24.com/js/a7b5a250e71331e76e52ae4c1ac245d4.svg\" width=\"24\"/></button></div></div><ul class=\"_1hOnS\"><li>LXI</li><li class=\"_1aIyR\"></li><li>Manual</li></ul><ul class=\"_13yb6\"><li>47,633 km</li><li>2nd Owner</li><li>Petrol</li><li>AP-29</li></ul><div><div class=\"WNwWR\"><div class=\"_1Em-A\"><strong>₹3,363/month</strong><span class=\"_2JX5N\">Zero Down Payment</span></div><div class=\"_18ToE\"><span>₹1,72,000</span><p class=\"eRtfP\">₹1,77,000</p></div></div><div class=\"_351jJ\"><span class=\"_3DYbK\"><img alt=\"Address\" height=\"14\" src=\"https://www.cars24.com/js/cee9f2419a2f766f8fff2e7a1a5ad9ff.svg\" width=\"14\"/>Kompally, Hyderabad</span></div></div></div>,\n",
       " <div class=\"_2z-Yu\"><div class=\"_1mlAq\"><h2 class=\"_2lmIw\">2016 Hyundai Elite i20</h2><div class=\"_1LNXN\"><button><img alt=\"Add to wishlist\" height=\"24\" src=\"https://www.cars24.com/js/a7b5a250e71331e76e52ae4c1ac245d4.svg\" width=\"24\"/></button></div></div><ul class=\"_1hOnS\"><li>MAGNA 1.2</li><li class=\"_1aIyR\"></li><li>Manual</li></ul><ul class=\"_13yb6\"><li>76,873 km</li><li>1st Owner</li><li>Petrol</li><li>TS-12</li></ul><div><div class=\"WNwWR\"><div class=\"_1Em-A\"><strong>₹10,283/month</strong><span class=\"_2JX5N\">Zero Down Payment</span></div><div class=\"_18ToE\"><span>₹5,26,000</span></div></div><div class=\"_351jJ\"><span class=\"_3DYbK\"><img alt=\"Address\" height=\"14\" src=\"https://www.cars24.com/js/cee9f2419a2f766f8fff2e7a1a5ad9ff.svg\" width=\"14\"/>Attapur, Hyderabad</span></div></div></div>,\n",
       " <div class=\"_2z-Yu\"><div class=\"_1mlAq\"><h2 class=\"_2lmIw\">2015 Honda City</h2><div class=\"_1LNXN\"><button><img alt=\"Add to wishlist\" height=\"24\" src=\"https://www.cars24.com/js/a7b5a250e71331e76e52ae4c1ac245d4.svg\" width=\"24\"/></button></div></div><ul class=\"_1hOnS\"><li>1.5L I-VTEC SV</li><li class=\"_1aIyR\"></li><li>Manual</li></ul><ul class=\"_13yb6\"><li>59,852 km</li><li>1st Owner</li><li>Petrol</li><li>TS-13</li></ul><div><div class=\"WNwWR\"><div class=\"_1Em-A\"><strong>₹12,590/month</strong><span class=\"_2JX5N\">Zero Down Payment</span></div><div class=\"_18ToE\"><span>₹6,44,000</span><p class=\"eRtfP\">₹6,73,000</p></div></div><div class=\"_351jJ\"><span class=\"_3DYbK\"><img alt=\"Address\" height=\"14\" src=\"https://www.cars24.com/js/cee9f2419a2f766f8fff2e7a1a5ad9ff.svg\" width=\"14\"/>Bachupally, Hyderabad</span></div></div></div>,\n",
       " <div class=\"_2z-Yu\"><div class=\"_1mlAq\"><h2 class=\"_2lmIw\">2019 Maruti Dzire</h2><div class=\"_1LNXN\"><button><img alt=\"Add to wishlist\" height=\"24\" src=\"https://www.cars24.com/js/a7b5a250e71331e76e52ae4c1ac245d4.svg\" width=\"24\"/></button></div></div><ul class=\"_1hOnS\"><li>VXI AMT</li><li class=\"_1aIyR\"></li><li>Automatic</li></ul><ul class=\"_13yb6\"><li>12,892 km</li><li>1st Owner</li><li>Petrol</li><li>TS-08</li></ul><div><div class=\"WNwWR\"><div class=\"_1Em-A\"><strong>₹14,115/month</strong><span class=\"_2JX5N\">Zero Down Payment</span></div><div class=\"_18ToE\"><span>₹7,22,000</span></div></div><div class=\"_351jJ\"><span class=\"_3DYbK\"><img alt=\"Address\" height=\"14\" src=\"https://www.cars24.com/js/cee9f2419a2f766f8fff2e7a1a5ad9ff.svg\" width=\"14\"/>Kompally, Hyderabad</span></div></div></div>,\n",
       " <div class=\"_2z-Yu\"><div class=\"_1mlAq\"><h2 class=\"_2lmIw\">2021 Toyota URBAN CRUISER</h2><div class=\"_1LNXN\"><button><img alt=\"Add to wishlist\" height=\"24\" src=\"https://www.cars24.com/js/a7b5a250e71331e76e52ae4c1ac245d4.svg\" width=\"24\"/></button></div></div><ul class=\"_1hOnS\"><li>PREMIUM GRADE AT DUAL TONE</li><li class=\"_1aIyR\"></li><li>Automatic</li></ul><ul class=\"_13yb6\"><li>37,224 km</li><li>1st Owner</li><li>Petrol</li><li>TS-08</li></ul><div><div class=\"WNwWR\"><div class=\"_1Em-A\"><strong>₹22,194/month</strong><span class=\"_2JX5N\">Zero Down Payment</span></div><div class=\"_18ToE\"><span>₹11,66,000</span><p class=\"eRtfP\">₹12,32,000</p></div></div><div class=\"_351jJ\"><span class=\"_3DYbK\"><img alt=\"Address\" height=\"14\" src=\"https://www.cars24.com/js/cee9f2419a2f766f8fff2e7a1a5ad9ff.svg\" width=\"14\"/>Attapur, Hyderabad</span></div></div></div>,\n",
       " <div class=\"_2z-Yu\"><div class=\"_1mlAq\"><h2 class=\"_2lmIw\">2019 Maruti Swift</h2><div class=\"_1LNXN\"><button><img alt=\"Add to wishlist\" height=\"24\" src=\"https://www.cars24.com/js/a7b5a250e71331e76e52ae4c1ac245d4.svg\" width=\"24\"/></button></div></div><ul class=\"_1hOnS\"><li>ZXI</li><li class=\"_1aIyR\"></li><li>Manual</li></ul><ul class=\"_13yb6\"><li>42,954 km</li><li>1st Owner</li><li>Petrol</li><li>TS-07</li></ul><div><div class=\"WNwWR\"><div class=\"_1Em-A\"><strong>₹13,529/month</strong><span class=\"_2JX5N\">Zero Down Payment</span></div><div class=\"_18ToE\"><span>₹6,92,000</span><p class=\"eRtfP\">₹7,03,000</p></div></div><div class=\"_351jJ\"><span class=\"_3DYbK\"><img alt=\"Address\" height=\"14\" src=\"https://www.cars24.com/js/cee9f2419a2f766f8fff2e7a1a5ad9ff.svg\" width=\"14\"/>Kompally, Hyderabad</span></div></div></div>,\n",
       " <div class=\"_2z-Yu\"><div class=\"_1mlAq\"><h2 class=\"_2lmIw\">2014 Honda Amaze</h2><div class=\"_1LNXN\"><button><img alt=\"Add to wishlist\" height=\"24\" src=\"https://www.cars24.com/js/a7b5a250e71331e76e52ae4c1ac245d4.svg\" width=\"24\"/></button></div></div><ul class=\"_1hOnS\"><li>1.2L I-VTEC S</li><li class=\"_1aIyR\"></li><li>Manual</li></ul><ul class=\"_13yb6\"><li>75,336 km</li><li>2nd Owner</li><li>Petrol</li><li>TS-08</li></ul><div><div class=\"WNwWR\"><div class=\"_1Em-A\"><strong>₹7,664/month</strong><span class=\"_2JX5N\">Zero Down Payment</span></div><div class=\"_18ToE\"><span>₹3,92,000</span><p class=\"eRtfP\">₹4,09,000</p></div></div><div class=\"_351jJ\"><span class=\"_3DYbK\"><img alt=\"Address\" height=\"14\" src=\"https://www.cars24.com/js/cee9f2419a2f766f8fff2e7a1a5ad9ff.svg\" width=\"14\"/>Attapur, Hyderabad</span></div></div></div>,\n",
       " <div class=\"_2z-Yu\"><div class=\"_1mlAq\"><h2 class=\"_2lmIw\">2019 Maruti Alto</h2><div class=\"_1LNXN\"><button><img alt=\"Add to wishlist\" height=\"24\" src=\"https://www.cars24.com/js/a7b5a250e71331e76e52ae4c1ac245d4.svg\" width=\"24\"/></button></div></div><ul class=\"_1hOnS\"><li>VXI</li><li class=\"_1aIyR\"></li><li>Manual</li></ul><ul class=\"_13yb6\"><li>36,483 km</li><li>1st Owner</li><li>Petrol</li><li>TS-09</li></ul><div><div class=\"WNwWR\"><div class=\"_1Em-A\"><strong>₹7,527/month</strong><span class=\"_2JX5N\">Zero Down Payment</span></div><div class=\"_18ToE\"><span>₹3,85,000</span><p class=\"eRtfP\">₹3,97,000</p></div></div><div class=\"_351jJ\"><span class=\"_3DYbK\"><img alt=\"Address\" height=\"14\" src=\"https://www.cars24.com/js/cee9f2419a2f766f8fff2e7a1a5ad9ff.svg\" width=\"14\"/>Bachupally, Hyderabad</span></div></div></div>,\n",
       " <div class=\"_2z-Yu\"><div class=\"_1mlAq\"><h2 class=\"_2lmIw\">2015 Hyundai Eon</h2><div class=\"_1LNXN\"><button><img alt=\"Add to wishlist\" height=\"24\" src=\"https://www.cars24.com/js/a7b5a250e71331e76e52ae4c1ac245d4.svg\" width=\"24\"/></button></div></div><ul class=\"_1hOnS\"><li>ERA +</li><li class=\"_1aIyR\"></li><li>Manual</li></ul><ul class=\"_13yb6\"><li>32,713 km</li><li>2nd Owner</li><li>Petrol</li><li>TS-07</li></ul><div><div class=\"WNwWR\"><div class=\"_1Em-A\"><strong>₹6,041/month</strong><span class=\"_2JX5N\">Zero Down Payment</span></div><div class=\"_18ToE\"><span>₹3,09,000</span><p class=\"eRtfP\">₹3,17,000</p></div></div><div class=\"_351jJ\"><span class=\"_3DYbK\"><img alt=\"Address\" height=\"14\" src=\"https://www.cars24.com/js/cee9f2419a2f766f8fff2e7a1a5ad9ff.svg\" width=\"14\"/>Bachupally, Hyderabad</span></div></div></div>,\n",
       " <div class=\"_2z-Yu\"><div class=\"_1mlAq\"><h2 class=\"_2lmIw\">2021 Toyota URBAN CRUISER</h2><div class=\"_1LNXN\"><button><img alt=\"Add to wishlist\" height=\"24\" src=\"https://www.cars24.com/js/a7b5a250e71331e76e52ae4c1ac245d4.svg\" width=\"24\"/></button></div></div><ul class=\"_1hOnS\"><li>PREMIUM GRADE MT DUAL TONE</li><li class=\"_1aIyR\"></li><li>Manual</li></ul><ul class=\"_13yb6\"><li>21,029 km</li><li>1st Owner</li><li>Petrol</li><li>TS-11</li></ul><div><div class=\"WNwWR\"><div class=\"_1Em-A\"><strong>₹19,339/month</strong><span class=\"_2JX5N\">Zero Down Payment</span></div><div class=\"_18ToE\"><span>₹10,16,000</span><p class=\"eRtfP\">₹10,36,000</p></div></div><div class=\"_351jJ\"><span class=\"_3DYbK\"><img alt=\"Address\" height=\"14\" src=\"https://www.cars24.com/js/cee9f2419a2f766f8fff2e7a1a5ad9ff.svg\" width=\"14\"/>Bachupally, Hyderabad</span></div></div></div>,\n",
       " <div class=\"_2z-Yu\"><div class=\"_1mlAq\"><h2 class=\"_2lmIw\">2020 Maruti DZIRE</h2><div class=\"_1LNXN\"><button><img alt=\"Add to wishlist\" height=\"24\" src=\"https://www.cars24.com/js/a7b5a250e71331e76e52ae4c1ac245d4.svg\" width=\"24\"/></button></div></div><ul class=\"_1hOnS\"><li>VXI</li><li class=\"_1aIyR\"></li><li>Manual</li></ul><ul class=\"_13yb6\"><li>34,361 km</li><li>2nd Owner</li><li>Petrol</li><li>TS-10</li></ul><div><div class=\"WNwWR\"><div class=\"_1Em-A\"><strong>₹13,939/month</strong><span class=\"_2JX5N\">Zero Down Payment</span></div><div class=\"_18ToE\"><span>₹7,13,000</span><p class=\"eRtfP\">₹7,22,000</p></div></div><div class=\"_351jJ\"><span class=\"_3DYbK\"><img alt=\"Address\" height=\"14\" src=\"https://www.cars24.com/js/cee9f2419a2f766f8fff2e7a1a5ad9ff.svg\" width=\"14\"/>Attapur, Hyderabad</span></div></div></div>]"
      ]
     },
     "execution_count": 109,
     "metadata": {},
     "output_type": "execute_result"
    }
   ],
   "source": [
    "tables"
   ]
  },
  {
   "cell_type": "markdown",
   "id": "af09fd44",
   "metadata": {},
   "source": [
    "### Main function to extract name and price of 20 cars in a given webpage"
   ]
  },
  {
   "cell_type": "code",
   "execution_count": 112,
   "id": "0316e1f8",
   "metadata": {},
   "outputs": [],
   "source": [
    "while cars_no < 1:\n",
    "    for table in tables:\n",
    "\n",
    "        url = 'https://www.cars24.com/buy-used-cars-hyderabad/'\n",
    "        soup = BeautifulSoup(page.text, 'html.parser')\n",
    "\n",
    "        name = table.find('h2', {'class': '_2lmIw'}).text\n",
    "        price_1 = table.find('div', {'class': '_18ToE'}).text\n",
    "#         price_1 = table.find('div._18TOE > span').text\n",
    "\n",
    "        price_2 = (re.split('₹|,|\\n', price_1))\n",
    "        price = ''.join(price_2)\n",
    "        price = float(price)\n",
    "\n",
    "\n",
    "        cars_no = cars_no + 1\n",
    "        Cars_dict[cars_no] = [name, price]\n",
    "\n",
    "        no_page =  no_page + 1\n",
    "        no_page =  str(no_page)\n",
    "        url     = 'https://www.cars24.com/buy-used-cars-hyderabad/' + '?page=' + no_page\n",
    "        no_page =  int(no_page)\n",
    "\n",
    "cars_dict_df = pd.DataFrame.from_dict(Cars_dict, orient='index',\n",
    "                                      columns=['Name_of_car','Price_Rs'])\n",
    "\n"
   ]
  },
  {
   "cell_type": "markdown",
   "id": "027aabc3",
   "metadata": {},
   "source": [
    "### Creating a .csv file storing the content in it"
   ]
  },
  {
   "cell_type": "code",
   "execution_count": 113,
   "id": "add4d78a",
   "metadata": {},
   "outputs": [],
   "source": [
    "cars_dict_df\n",
    "\n",
    "cars_dict_df.to_csv('about_cars24_2.csv')"
   ]
  }
 ],
 "metadata": {
  "kernelspec": {
   "display_name": "Python 3 (ipykernel)",
   "language": "python",
   "name": "python3"
  },
  "language_info": {
   "codemirror_mode": {
    "name": "ipython",
    "version": 3
   },
   "file_extension": ".py",
   "mimetype": "text/x-python",
   "name": "python",
   "nbconvert_exporter": "python",
   "pygments_lexer": "ipython3",
   "version": "3.10.9"
  }
 },
 "nbformat": 4,
 "nbformat_minor": 5
}
